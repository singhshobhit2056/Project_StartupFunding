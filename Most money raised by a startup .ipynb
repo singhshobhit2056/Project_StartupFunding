{
 "cells": [
  {
   "cell_type": "markdown",
   "id": "f4a7e59e",
   "metadata": {},
   "source": [
    "# Money raised by startup"
   ]
  },
  {
   "cell_type": "code",
   "execution_count": 154,
   "id": "94e56c6f",
   "metadata": {},
   "outputs": [],
   "source": [
    "import pandas as pd\n",
    "import numpy as np\n",
    "import matplotlib.pyplot as plt"
   ]
  },
  {
   "cell_type": "code",
   "execution_count": 117,
   "id": "fae85b5f",
   "metadata": {},
   "outputs": [
    {
     "data": {
      "text/html": [
       "<div>\n",
       "<style scoped>\n",
       "    .dataframe tbody tr th:only-of-type {\n",
       "        vertical-align: middle;\n",
       "    }\n",
       "\n",
       "    .dataframe tbody tr th {\n",
       "        vertical-align: top;\n",
       "    }\n",
       "\n",
       "    .dataframe thead th {\n",
       "        text-align: right;\n",
       "    }\n",
       "</style>\n",
       "<table border=\"1\" class=\"dataframe\">\n",
       "  <thead>\n",
       "    <tr style=\"text-align: right;\">\n",
       "      <th></th>\n",
       "      <th>Sr No</th>\n",
       "      <th>Date dd/mm/yyyy</th>\n",
       "      <th>Startup Name</th>\n",
       "      <th>Industry Vertical</th>\n",
       "      <th>SubVertical</th>\n",
       "      <th>City  Location</th>\n",
       "      <th>Investors Name</th>\n",
       "      <th>InvestmentnType</th>\n",
       "      <th>Amount in USD</th>\n",
       "      <th>Remarks</th>\n",
       "    </tr>\n",
       "  </thead>\n",
       "  <tbody>\n",
       "    <tr>\n",
       "      <th>0</th>\n",
       "      <td>1</td>\n",
       "      <td>09/01/2020</td>\n",
       "      <td>BYJU’S</td>\n",
       "      <td>E-Tech</td>\n",
       "      <td>E-learning</td>\n",
       "      <td>Bengaluru</td>\n",
       "      <td>Tiger Global Management</td>\n",
       "      <td>Private Equity Round</td>\n",
       "      <td>20,00,00,000</td>\n",
       "      <td>NaN</td>\n",
       "    </tr>\n",
       "    <tr>\n",
       "      <th>1</th>\n",
       "      <td>2</td>\n",
       "      <td>13/01/2020</td>\n",
       "      <td>Shuttl</td>\n",
       "      <td>Transportation</td>\n",
       "      <td>App based shuttle service</td>\n",
       "      <td>Gurgaon</td>\n",
       "      <td>Susquehanna Growth Equity</td>\n",
       "      <td>Series C</td>\n",
       "      <td>80,48,394</td>\n",
       "      <td>NaN</td>\n",
       "    </tr>\n",
       "    <tr>\n",
       "      <th>2</th>\n",
       "      <td>3</td>\n",
       "      <td>09/01/2020</td>\n",
       "      <td>Mamaearth</td>\n",
       "      <td>E-commerce</td>\n",
       "      <td>Retailer of baby and toddler products</td>\n",
       "      <td>Bengaluru</td>\n",
       "      <td>Sequoia Capital India</td>\n",
       "      <td>Series B</td>\n",
       "      <td>1,83,58,860</td>\n",
       "      <td>NaN</td>\n",
       "    </tr>\n",
       "    <tr>\n",
       "      <th>3</th>\n",
       "      <td>4</td>\n",
       "      <td>02/01/2020</td>\n",
       "      <td>https://www.wealthbucket.in/</td>\n",
       "      <td>FinTech</td>\n",
       "      <td>Online Investment</td>\n",
       "      <td>New Delhi</td>\n",
       "      <td>Vinod Khatumal</td>\n",
       "      <td>Pre-series A</td>\n",
       "      <td>30,00,000</td>\n",
       "      <td>NaN</td>\n",
       "    </tr>\n",
       "    <tr>\n",
       "      <th>4</th>\n",
       "      <td>5</td>\n",
       "      <td>02/01/2020</td>\n",
       "      <td>Fashor</td>\n",
       "      <td>Fashion and Apparel</td>\n",
       "      <td>Embroiled Clothes For Women</td>\n",
       "      <td>Mumbai</td>\n",
       "      <td>Sprout Venture Partners</td>\n",
       "      <td>Seed Round</td>\n",
       "      <td>18,00,000</td>\n",
       "      <td>NaN</td>\n",
       "    </tr>\n",
       "    <tr>\n",
       "      <th>...</th>\n",
       "      <td>...</td>\n",
       "      <td>...</td>\n",
       "      <td>...</td>\n",
       "      <td>...</td>\n",
       "      <td>...</td>\n",
       "      <td>...</td>\n",
       "      <td>...</td>\n",
       "      <td>...</td>\n",
       "      <td>...</td>\n",
       "      <td>...</td>\n",
       "    </tr>\n",
       "    <tr>\n",
       "      <th>3039</th>\n",
       "      <td>3040</td>\n",
       "      <td>29/01/2015</td>\n",
       "      <td>Printvenue</td>\n",
       "      <td>NaN</td>\n",
       "      <td>NaN</td>\n",
       "      <td>NaN</td>\n",
       "      <td>Asia Pacific Internet Group</td>\n",
       "      <td>Private Equity</td>\n",
       "      <td>45,00,000</td>\n",
       "      <td>NaN</td>\n",
       "    </tr>\n",
       "    <tr>\n",
       "      <th>3040</th>\n",
       "      <td>3041</td>\n",
       "      <td>29/01/2015</td>\n",
       "      <td>Graphene</td>\n",
       "      <td>NaN</td>\n",
       "      <td>NaN</td>\n",
       "      <td>NaN</td>\n",
       "      <td>KARSEMVEN Fund</td>\n",
       "      <td>Private Equity</td>\n",
       "      <td>8,25,000</td>\n",
       "      <td>Govt backed VC Fund</td>\n",
       "    </tr>\n",
       "    <tr>\n",
       "      <th>3041</th>\n",
       "      <td>3042</td>\n",
       "      <td>30/01/2015</td>\n",
       "      <td>Mad Street Den</td>\n",
       "      <td>NaN</td>\n",
       "      <td>NaN</td>\n",
       "      <td>NaN</td>\n",
       "      <td>Exfinity Fund, GrowX Ventures.</td>\n",
       "      <td>Private Equity</td>\n",
       "      <td>15,00,000</td>\n",
       "      <td>NaN</td>\n",
       "    </tr>\n",
       "    <tr>\n",
       "      <th>3042</th>\n",
       "      <td>3043</td>\n",
       "      <td>30/01/2015</td>\n",
       "      <td>Simplotel</td>\n",
       "      <td>NaN</td>\n",
       "      <td>NaN</td>\n",
       "      <td>NaN</td>\n",
       "      <td>MakeMyTrip</td>\n",
       "      <td>Private Equity</td>\n",
       "      <td>NaN</td>\n",
       "      <td>Strategic Funding, Minority stake</td>\n",
       "    </tr>\n",
       "    <tr>\n",
       "      <th>3043</th>\n",
       "      <td>3044</td>\n",
       "      <td>31/01/2015</td>\n",
       "      <td>couponmachine.in</td>\n",
       "      <td>NaN</td>\n",
       "      <td>NaN</td>\n",
       "      <td>NaN</td>\n",
       "      <td>UK based Group of Angel Investors</td>\n",
       "      <td>Seed Funding</td>\n",
       "      <td>1,40,000</td>\n",
       "      <td>NaN</td>\n",
       "    </tr>\n",
       "  </tbody>\n",
       "</table>\n",
       "<p>3044 rows × 10 columns</p>\n",
       "</div>"
      ],
      "text/plain": [
       "      Sr No Date dd/mm/yyyy                  Startup Name  \\\n",
       "0         1      09/01/2020                        BYJU’S   \n",
       "1         2      13/01/2020                        Shuttl   \n",
       "2         3      09/01/2020                     Mamaearth   \n",
       "3         4      02/01/2020  https://www.wealthbucket.in/   \n",
       "4         5      02/01/2020                        Fashor   \n",
       "...     ...             ...                           ...   \n",
       "3039   3040      29/01/2015                    Printvenue   \n",
       "3040   3041      29/01/2015                      Graphene   \n",
       "3041   3042      30/01/2015                Mad Street Den   \n",
       "3042   3043      30/01/2015                     Simplotel   \n",
       "3043   3044      31/01/2015              couponmachine.in   \n",
       "\n",
       "        Industry Vertical                            SubVertical  \\\n",
       "0                  E-Tech                             E-learning   \n",
       "1          Transportation              App based shuttle service   \n",
       "2              E-commerce  Retailer of baby and toddler products   \n",
       "3                 FinTech                      Online Investment   \n",
       "4     Fashion and Apparel            Embroiled Clothes For Women   \n",
       "...                   ...                                    ...   \n",
       "3039                  NaN                                    NaN   \n",
       "3040                  NaN                                    NaN   \n",
       "3041                  NaN                                    NaN   \n",
       "3042                  NaN                                    NaN   \n",
       "3043                  NaN                                    NaN   \n",
       "\n",
       "     City  Location                     Investors Name       InvestmentnType  \\\n",
       "0         Bengaluru            Tiger Global Management  Private Equity Round   \n",
       "1           Gurgaon          Susquehanna Growth Equity              Series C   \n",
       "2         Bengaluru              Sequoia Capital India              Series B   \n",
       "3         New Delhi                     Vinod Khatumal          Pre-series A   \n",
       "4            Mumbai            Sprout Venture Partners            Seed Round   \n",
       "...             ...                                ...                   ...   \n",
       "3039            NaN        Asia Pacific Internet Group        Private Equity   \n",
       "3040            NaN                     KARSEMVEN Fund        Private Equity   \n",
       "3041            NaN     Exfinity Fund, GrowX Ventures.        Private Equity   \n",
       "3042            NaN                         MakeMyTrip        Private Equity   \n",
       "3043            NaN  UK based Group of Angel Investors          Seed Funding   \n",
       "\n",
       "     Amount in USD                            Remarks  \n",
       "0     20,00,00,000                                NaN  \n",
       "1        80,48,394                                NaN  \n",
       "2      1,83,58,860                                NaN  \n",
       "3        30,00,000                                NaN  \n",
       "4        18,00,000                                NaN  \n",
       "...            ...                                ...  \n",
       "3039     45,00,000                                NaN  \n",
       "3040      8,25,000                Govt backed VC Fund  \n",
       "3041     15,00,000                                NaN  \n",
       "3042           NaN  Strategic Funding, Minority stake  \n",
       "3043      1,40,000                                NaN  \n",
       "\n",
       "[3044 rows x 10 columns]"
      ]
     },
     "execution_count": 117,
     "metadata": {},
     "output_type": "execute_result"
    }
   ],
   "source": [
    "df = pd.read_csv(\"startup_funding_Data _kaggle.csv\")\n",
    "df"
   ]
  },
  {
   "cell_type": "code",
   "execution_count": 118,
   "id": "b20239c0",
   "metadata": {},
   "outputs": [
    {
     "data": {
      "text/plain": [
       "Index(['Sr No', 'Date dd/mm/yyyy', 'Startup Name', 'Industry Vertical',\n",
       "       'SubVertical', 'City  Location', 'Investors Name', 'InvestmentnType',\n",
       "       'Amount in USD', 'Remarks'],\n",
       "      dtype='object')"
      ]
     },
     "execution_count": 118,
     "metadata": {},
     "output_type": "execute_result"
    }
   ],
   "source": [
    "df.columns"
   ]
  },
  {
   "cell_type": "code",
   "execution_count": 119,
   "id": "19e166c6",
   "metadata": {},
   "outputs": [],
   "source": [
    "df_new = df.drop(columns = ['Sr No', 'Date dd/mm/yyyy', 'Industry Vertical',\n",
    "       'SubVertical', 'City  Location', 'Investors Name', 'InvestmentnType', 'Remarks'])"
   ]
  },
  {
   "cell_type": "code",
   "execution_count": 120,
   "id": "7672317b",
   "metadata": {},
   "outputs": [
    {
     "data": {
      "text/html": [
       "<div>\n",
       "<style scoped>\n",
       "    .dataframe tbody tr th:only-of-type {\n",
       "        vertical-align: middle;\n",
       "    }\n",
       "\n",
       "    .dataframe tbody tr th {\n",
       "        vertical-align: top;\n",
       "    }\n",
       "\n",
       "    .dataframe thead th {\n",
       "        text-align: right;\n",
       "    }\n",
       "</style>\n",
       "<table border=\"1\" class=\"dataframe\">\n",
       "  <thead>\n",
       "    <tr style=\"text-align: right;\">\n",
       "      <th></th>\n",
       "      <th>Startup Name</th>\n",
       "      <th>Amount in USD</th>\n",
       "    </tr>\n",
       "  </thead>\n",
       "  <tbody>\n",
       "    <tr>\n",
       "      <th>0</th>\n",
       "      <td>BYJU’S</td>\n",
       "      <td>20,00,00,000</td>\n",
       "    </tr>\n",
       "    <tr>\n",
       "      <th>1</th>\n",
       "      <td>Shuttl</td>\n",
       "      <td>80,48,394</td>\n",
       "    </tr>\n",
       "    <tr>\n",
       "      <th>2</th>\n",
       "      <td>Mamaearth</td>\n",
       "      <td>1,83,58,860</td>\n",
       "    </tr>\n",
       "    <tr>\n",
       "      <th>3</th>\n",
       "      <td>https://www.wealthbucket.in/</td>\n",
       "      <td>30,00,000</td>\n",
       "    </tr>\n",
       "    <tr>\n",
       "      <th>4</th>\n",
       "      <td>Fashor</td>\n",
       "      <td>18,00,000</td>\n",
       "    </tr>\n",
       "    <tr>\n",
       "      <th>...</th>\n",
       "      <td>...</td>\n",
       "      <td>...</td>\n",
       "    </tr>\n",
       "    <tr>\n",
       "      <th>3039</th>\n",
       "      <td>Printvenue</td>\n",
       "      <td>45,00,000</td>\n",
       "    </tr>\n",
       "    <tr>\n",
       "      <th>3040</th>\n",
       "      <td>Graphene</td>\n",
       "      <td>8,25,000</td>\n",
       "    </tr>\n",
       "    <tr>\n",
       "      <th>3041</th>\n",
       "      <td>Mad Street Den</td>\n",
       "      <td>15,00,000</td>\n",
       "    </tr>\n",
       "    <tr>\n",
       "      <th>3042</th>\n",
       "      <td>Simplotel</td>\n",
       "      <td>NaN</td>\n",
       "    </tr>\n",
       "    <tr>\n",
       "      <th>3043</th>\n",
       "      <td>couponmachine.in</td>\n",
       "      <td>1,40,000</td>\n",
       "    </tr>\n",
       "  </tbody>\n",
       "</table>\n",
       "<p>3044 rows × 2 columns</p>\n",
       "</div>"
      ],
      "text/plain": [
       "                      Startup Name Amount in USD\n",
       "0                           BYJU’S  20,00,00,000\n",
       "1                           Shuttl     80,48,394\n",
       "2                        Mamaearth   1,83,58,860\n",
       "3     https://www.wealthbucket.in/     30,00,000\n",
       "4                           Fashor     18,00,000\n",
       "...                            ...           ...\n",
       "3039                    Printvenue     45,00,000\n",
       "3040                      Graphene      8,25,000\n",
       "3041                Mad Street Den     15,00,000\n",
       "3042                     Simplotel           NaN\n",
       "3043              couponmachine.in      1,40,000\n",
       "\n",
       "[3044 rows x 2 columns]"
      ]
     },
     "execution_count": 120,
     "metadata": {},
     "output_type": "execute_result"
    }
   ],
   "source": [
    "df_new"
   ]
  },
  {
   "cell_type": "code",
   "execution_count": 121,
   "id": "295d6267",
   "metadata": {},
   "outputs": [],
   "source": [
    "df_new.dropna(inplace = True)"
   ]
  },
  {
   "cell_type": "code",
   "execution_count": 122,
   "id": "77af0106",
   "metadata": {},
   "outputs": [
    {
     "data": {
      "text/plain": [
       "Swiggy                 8\n",
       "Ola Cabs               7\n",
       "Capital Float          5\n",
       "UrbanClap              5\n",
       "Toppr                  5\n",
       "                      ..\n",
       "Markets and Markets    1\n",
       "Ixigo                  1\n",
       "Haqdarshak             1\n",
       "Airpay                 1\n",
       "couponmachine.in       1\n",
       "Name: Startup Name, Length: 1712, dtype: int64"
      ]
     },
     "execution_count": 122,
     "metadata": {},
     "output_type": "execute_result"
    }
   ],
   "source": [
    "df_new[\"Startup Name\"].value_counts() #checking names of most famous startups and looking for their names in diffrent forms"
   ]
  },
  {
   "cell_type": "code",
   "execution_count": 123,
   "id": "3542fa18",
   "metadata": {
    "scrolled": false
   },
   "outputs": [
    {
     "name": "stdout",
     "output_type": "stream",
     "text": [
      "Ola Cabs\n",
      "Ola\n",
      "Olacabs\n",
      "Ola Electric\n"
     ]
    }
   ],
   "source": [
    "for i in df_new[\"Startup Name\"].value_counts().index: # checking more names of ola in the daraset\n",
    "    if \"Ola\" in i:\n",
    "        print(i)\n",
    "    else:\n",
    "        continue"
   ]
  },
  {
   "cell_type": "code",
   "execution_count": 124,
   "id": "4f2ff31c",
   "metadata": {},
   "outputs": [],
   "source": [
    "#replacing all the ola with single ola name \n",
    "df_new[\"Startup Name\"].replace(\"Ola\", \"Ola Cabs\", inplace = True)\n",
    "df_new[\"Startup Name\"].replace(\"Olacabs\", \"Ola Cabs\", inplace = True)\n",
    "df_new[\"Startup Name\"].replace(\"Ola Electric\", \"Ola Cabs\", inplace = True)\n"
   ]
  },
  {
   "cell_type": "code",
   "execution_count": null,
   "id": "7cf4e0a8",
   "metadata": {},
   "outputs": [],
   "source": []
  },
  {
   "cell_type": "code",
   "execution_count": 125,
   "id": "c6ddc643",
   "metadata": {},
   "outputs": [
    {
     "name": "stdout",
     "output_type": "stream",
     "text": [
      "Toppr\n",
      "Toppr.com\n"
     ]
    }
   ],
   "source": [
    "for i in df_new[\"Startup Name\"].value_counts().index: #cheking for topper\n",
    "    if \"oppr\" in i:\n",
    "        print(i)\n",
    "    else:\n",
    "        continue"
   ]
  },
  {
   "cell_type": "code",
   "execution_count": 126,
   "id": "f3fe0621",
   "metadata": {},
   "outputs": [],
   "source": [
    "df_new[\"Startup Name\"].replace(\"Toppr.com\", \"Toppr\", inplace = True)   #replacing topper   "
   ]
  },
  {
   "cell_type": "code",
   "execution_count": 127,
   "id": "d5848a2c",
   "metadata": {},
   "outputs": [
    {
     "name": "stdout",
     "output_type": "stream",
     "text": [
      "Flipkart\n",
      "Flipkart.com\n"
     ]
    }
   ],
   "source": [
    "for i in df_new[\"Startup Name\"].value_counts().index: #cheking for flipkart\n",
    "    if \"lipkart\" in i:\n",
    "        print(i)\n",
    "    else:\n",
    "        continue"
   ]
  },
  {
   "cell_type": "code",
   "execution_count": 128,
   "id": "543216be",
   "metadata": {},
   "outputs": [],
   "source": [
    "df_new[\"Startup Name\"].replace(\"Flipkart.com\", \"Flipkart\", inplace = True)   #replacing flipkart"
   ]
  },
  {
   "cell_type": "code",
   "execution_count": 129,
   "id": "62de577f",
   "metadata": {},
   "outputs": [
    {
     "name": "stdout",
     "output_type": "stream",
     "text": [
      "Paytm\n",
      "Paytm Marketplace\n"
     ]
    }
   ],
   "source": [
    "for i in df_new[\"Startup Name\"].value_counts().index: #cheking for paytm\n",
    "    if \"aytm\" in i:\n",
    "        print(i)\n",
    "    else:\n",
    "        continue"
   ]
  },
  {
   "cell_type": "code",
   "execution_count": 130,
   "id": "b063a28b",
   "metadata": {},
   "outputs": [],
   "source": [
    "df_new[\"Startup Name\"].replace(\"Paytm Marketplace\", \"Paytm\", inplace = True)  #replacing paytm"
   ]
  },
  {
   "cell_type": "code",
   "execution_count": 142,
   "id": "41913314",
   "metadata": {},
   "outputs": [
    {
     "name": "stdout",
     "output_type": "stream",
     "text": [
      "['Ola Cabs', 'Swiggy', 'Paytm', 'Toppr', 'Flipkart']\n",
      "[13, 8, 6, 6, 6]\n"
     ]
    }
   ],
   "source": [
    "array1 = []\n",
    "array2 = []\n",
    "for i in df_new[\"Startup Name\"].value_counts().index:\n",
    "    array1.append(i)\n",
    "    \n",
    "for i1 in df_new[\"Startup Name\"].value_counts().values:\n",
    "    array2.append(i1)\n",
    "    \n",
    "array1 = array1[0:5]\n",
    "array2 = array2[0:5]\n",
    "print(array1)\n",
    "print(array2)"
   ]
  },
  {
   "cell_type": "code",
   "execution_count": null,
   "id": "9d59a9e9",
   "metadata": {},
   "outputs": [],
   "source": []
  },
  {
   "cell_type": "markdown",
   "id": "97ad277b",
   "metadata": {},
   "source": [
    "# doing operation for values in amount & dealing with incorrect entries"
   ]
  },
  {
   "cell_type": "code",
   "execution_count": 131,
   "id": "31f33fa3",
   "metadata": {},
   "outputs": [
    {
     "data": {
      "text/plain": [
       "array(['20,00,00,000', '80,48,394', '1,83,58,860', '30,00,000',\n",
       "       '18,00,000', '90,00,000', '15,00,00,000', '60,00,000',\n",
       "       '7,00,00,000', '5,00,00,000', '2,00,00,000', '1,20,00,000',\n",
       "       '3,00,00,000', '59,00,000', '20,00,000', '23,10,00,000',\n",
       "       '4,86,000', '15,00,000', 'undisclosed', '2,60,00,000',\n",
       "       '1,74,11,265', '13,00,000', '13,50,00,000', '3,00,000',\n",
       "       '22,00,00,000', '1,58,00,000', '28,30,00,000', '1,00,00,00,000',\n",
       "       '4,50,00,000', '58,50,00,000', 'unknown', '45,00,000', '33,00,000',\n",
       "       '50,00,000', '1,80,00,000', '10,00,000', '1,00,00,000',\n",
       "       '45,00,00,000', '16,00,000', '14,00,00,000', '3,80,80,000',\n",
       "       '12,50,00,000', '1,10,00,000', '5,10,00,000', '3,70,00,000',\n",
       "       '5,00,000', '11,00,00,000', '1,50,00,000', '65,90,000',\n",
       "       'Undisclosed', '3,90,00,00,000', '1,90,00,000', '25,00,000',\n",
       "       '1,45,000', '6,00,00,000', '1,60,00,000', '57,50,000', '3,19,605',\n",
       "       '48,89,975.54', '7,50,00,000', '27,39,034.68', '1,51,09,500.00',\n",
       "       '4,30,200', '1,55,00,000', '5,20,00,000', '35,84,000', '34,00,000',\n",
       "       '8,68,600', '1,15,00,000', '56,00,000', '1,70,00,000', '4,30,665',\n",
       "       '35,91,375', '2,00,000', '35,00,000', '63,20,820', '24,43,495',\n",
       "       '3,07,000', '14,342,000+', '22,60,00,000', '6,00,000',\n",
       "       '10,00,00,000', '2,20,00,000', '7,00,000', '8,00,000', '5,72,000',\n",
       "       '1,43,000', '1,38,995', '2,77,99,000', '30,00,00,000', '2,78,000',\n",
       "       '3,10,00,000', '2,95,00,000', '4,20,00,000', '17,00,000',\n",
       "       '82,00,000', '40,00,000', '1,46,80,000', '3,50,00,000',\n",
       "       '22,50,00,000', '63,90,000', '15,72,00,000', '3,20,00,000',\n",
       "       '55,00,000', '4,00,000', '70,00,000', '1,20,000', '1,22,00,000',\n",
       "       '6,60,00,000', '80,00,000', '1,14,811', '58,50,000', '48,00,000',\n",
       "       '1,42,70,000', '1,34,00,000', '42,00,000', '60,00,00,000',\n",
       "       '62,50,000', '2,77,00,000', '4,40,000', '11,00,000', '4,37,000',\n",
       "       '1,80,000', '1,75,000', '2,90,00,000', '4,97,00,000', '2,80,000',\n",
       "       '4,36,000', '12,50,000', '12,00,00,000', '1,25,000', '2,30,00,000',\n",
       "       '2,15,00,000', '1,48,00,000', '1,01,00,000', '3,000,00',\n",
       "       '4,50,000', '34,50,000', '2,10,00,000', '91,00,000', '89,50,000',\n",
       "       '2,25,000', '9,49,000', '2,40,00,000', '4200000', '7,35,000',\n",
       "       '2,93,000', '1,40,00,000', '13,000,00', '3,07,600', '5,50,00,000',\n",
       "       '1,50,000', '28,00,000', '1,000,000,', '46,140', '46,000,00',\n",
       "       '11,000,00', '19,00,000', '2,46,000', '75,00,000', '9,78,000',\n",
       "       '2,50,000', '21,00,000', '97,00,000', '76,00,000', '3,84,00,000',\n",
       "       '8,20,00,000', '1,72,00,000', '6,20,00,000', '13,10,000',\n",
       "       '7,68,000', '12,40,000', '5,35,000', '43,00,000', '31,00,000',\n",
       "       '68,30,000', '8,70,00,000', '9,35,089', '3,11,200', '1,35,00,000',\n",
       "       '1,00,000', '1,48,434', '62,30,000', '38,00,000', '7,72,500',\n",
       "       '10,40,000', '11,50,00,000', '14,00,000', '1,57,00,000',\n",
       "       '47,00,000', '19,30,000', '1,88,40,000', '2,35,00,000',\n",
       "       '3,62,30,000', '80,000', '3,54,600', '2,50,00,000', '1,82,00,000',\n",
       "       '32,00,000', '4,70,00,000', '86,00,000', '62,40,000', '74,00,000',\n",
       "       '44,00,000', '1,23,00,000', '7,50,000', '23,00,000', '50,000',\n",
       "       '12,00,000', '1,75,00,000', '2,33,000', '2,70,00,000', '72,00,000',\n",
       "       '5,37,000', '27,00,000', '95,00,000', '1,95,00,000', '5,70,000',\n",
       "       '36,00,000', '8,72,000', '82,50,000', '9,00,000', '6,92,000',\n",
       "       '3,29,230', '27,00,00,000', '39,000', '1,30,00,000', '13,50,000',\n",
       "       '3,06,000', '3,87,00,000', '92,00,000', '3,36,000', '2,35,000',\n",
       "       '7,70,00,000', '77,00,000', '1,18,000', '7,22,000', '5,50,000',\n",
       "       '1,07,50,000', '25,00,00,000', '7,80,000', '69,00,000',\n",
       "       '62,00,000', '4,40,00,000', '1,54,00,000', '4,22,000', '8,50,000',\n",
       "       '2,43,000', '2,20,000', '7,83,000', '2,50,00,00,000',\n",
       "       '3,60,00,000', '3,12,000', '3,85,000', '1,87,000', '68,00,000',\n",
       "       '7,34,000', '8,00,00,000', '3,40,00,000', '26,00,000', '85,00,000',\n",
       "       '22,50,000', '4,64,000', '1,85,00,000', '5,40,000', '2,34,000',\n",
       "       '6,50,000', '2,32,000', '3,50,000', '78,00,000', '7,76,000',\n",
       "       '1,25,00,000', '52,00,000', '24,00,000', '2,15,000', '46,00,000',\n",
       "       '7,10,00,000', '3,11,000', '7,37,00,000', '3,90,000',\n",
       "       '10,45,00,000', '4,66,000', '53,00,000', '1,40,00,00,000',\n",
       "       '66,00,000', '5,80,000', '4,00,00,000', '61,00,000', '36,90,000',\n",
       "       '26,00,00,000', '3,10,000', '6,20,000', '46,50,000', '1,55,000',\n",
       "       '63,00,000', '2,45,000', '33,00,00,000', '2,75,000', '67,00,000',\n",
       "       '17,90,000', '30,000', '36,50,000', '4,43,000', '33,50,000',\n",
       "       '36,70,000', '1,91,000', '5,60,00,000', '3,82,000', '3,25,000',\n",
       "       '40,000', '58,00,000', '3,30,000', '2,24,00,000', '65,00,000',\n",
       "       '1,52,00,000', '3,75,000', '94,000', '3,66,000', '8,25,000',\n",
       "       '5,70,00,000', '41,00,000', '4,41,000', '1,47,000', '22,00,000',\n",
       "       '88,00,000', '1,06,000', '22,500', '68,000', '18,000',\n",
       "       '1,11,00,000', '2,97,000', '1,23,000', '1,62,000', '3,24,000',\n",
       "       '45,000', '90,000', '9,63,000', '2,18,000', '37,50,000',\n",
       "       '10,50,000', '25,000', '2,27,000', '9,71,000', '3,15,000',\n",
       "       '6,70,000', '4,48,000', '3,13,00,000', '2,98,000', '4,25,000',\n",
       "       '7,45,000', '15,80,000', '8,90,000', '27,000', '4,45,000',\n",
       "       '2,09,000', '1,56,00,000', '17,50,00,000', '6,75,000', '1,49,000',\n",
       "       '1,04,000', '7,40,000', '19,50,000', '1,22,50,000', '10,70,000',\n",
       "       '5,95,000', '75,000', '2,10,000', '1,48,000', '2,95,000',\n",
       "       '3,68,000', '3,76,000', '27,50,000', '89,000', '4,75,000',\n",
       "       '89,00,000', '2,23,608', '1,49,00,000', '2,30,000', '1,08,000',\n",
       "       '3,60,000', '81,000', '52,000', '9,70,000', '73,000', '37,000',\n",
       "       '1,60,000', '70,000', '18,00,00,000', '54,00,000', '1,65,00,000',\n",
       "       '14,50,00,000', '2,40,000', '5,20,000', '5,15,000', '3,70,000',\n",
       "       '1,85,000', '51,50,000', '2,25,00,000', '3,03,000', '3,20,000',\n",
       "       '1,66,00,000', '4,60,000', '4,90,000', '37,00,000', '5,30,000',\n",
       "       '50,00,00,000', '4,55,000', '3,05,000', '1,10,000', '14,50,000',\n",
       "       '77,000', '1,90,000', '29,50,000', '15,30,000', '6,40,000',\n",
       "       '1,30,000', '2,60,000', '2,05,000', '7,70,000', '42,50,000',\n",
       "       '4,10,000', '11,50,000', '3,75,00,000', '17,50,000',\n",
       "       '68,00,00,000', '96,00,000', '7,85,000', '9,00,00,000', '6,30,000',\n",
       "       '6,30,00,000', '1,56,000', '1,61,000', '3,95,000', '20,000',\n",
       "       '4,70,000', '1,02,00,000', '\\\\\\\\xc2\\\\\\\\xa020,000,000',\n",
       "       '\\\\\\\\xc2\\\\\\\\xa016,200,000', '\\\\\\\\xc2\\\\\\\\xa0N/A',\n",
       "       '\\\\\\\\xc2\\\\\\\\xa0600,000', '\\\\\\\\xc2\\\\\\\\xa0685,000',\n",
       "       '\\\\\\\\xc2\\\\\\\\xa019,350,000', '\\\\\\\\xc2\\\\\\\\xa05,000,000',\n",
       "       '\\\\\\\\xc2\\\\\\\\xa010,000,000', '7,90,000', '48,50,000', '1,27,50,000',\n",
       "       '70,00,00,000', '1,68,000', '13,70,00,000', '1,40,000',\n",
       "       '8,50,00,000', '2,70,000', '6,25,000', '1,65,000', '40,00,00,000',\n",
       "       '2,80,00,000', '1,66,000', '1,15,000', '16,600', '5,18,000',\n",
       "       '41,50,000', '2,90,000', '21,50,000', '3,80,000', '1,35,000',\n",
       "       '2,85,000', '30,768', '16,000', '1,47,50,000', '32,50,000'],\n",
       "      dtype=object)"
      ]
     },
     "execution_count": 131,
     "metadata": {},
     "output_type": "execute_result"
    }
   ],
   "source": [
    "df_new[\"Amount in USD\"].unique() #checking different type of values in the amount"
   ]
  },
  {
   "cell_type": "code",
   "execution_count": 132,
   "id": "26fdfd18",
   "metadata": {},
   "outputs": [],
   "source": [
    "#handling unkown data which can be seen above replacing them with nan \n",
    "arr = []\n",
    "for i in df_new[\"Amount in USD\"]:\n",
    "    arr.append(i)"
   ]
  },
  {
   "cell_type": "code",
   "execution_count": 133,
   "id": "98240202",
   "metadata": {},
   "outputs": [],
   "source": [
    "import numpy as np\n",
    "arr2 = []\n",
    "for i in arr:\n",
    "    if \"x\" in i:\n",
    "        arr2.append(np.nan)\n",
    "        continue\n",
    "    elif \"+\" in i:\n",
    "        arr2.append(np.nan)\n",
    "        continue\n",
    "    elif \",\" in i:\n",
    "        arr2.append(i)\n",
    "        continue\n",
    "    else :\n",
    "        arr2.append(np.nan)\n",
    "    "
   ]
  },
  {
   "cell_type": "code",
   "execution_count": 134,
   "id": "22929b2c",
   "metadata": {},
   "outputs": [
    {
     "data": {
      "text/html": [
       "<div>\n",
       "<style scoped>\n",
       "    .dataframe tbody tr th:only-of-type {\n",
       "        vertical-align: middle;\n",
       "    }\n",
       "\n",
       "    .dataframe tbody tr th {\n",
       "        vertical-align: top;\n",
       "    }\n",
       "\n",
       "    .dataframe thead th {\n",
       "        text-align: right;\n",
       "    }\n",
       "</style>\n",
       "<table border=\"1\" class=\"dataframe\">\n",
       "  <thead>\n",
       "    <tr style=\"text-align: right;\">\n",
       "      <th></th>\n",
       "      <th>Startup Name</th>\n",
       "      <th>Amount</th>\n",
       "    </tr>\n",
       "  </thead>\n",
       "  <tbody>\n",
       "    <tr>\n",
       "      <th>0</th>\n",
       "      <td>BYJU’S</td>\n",
       "      <td>20,00,00,000</td>\n",
       "    </tr>\n",
       "    <tr>\n",
       "      <th>1</th>\n",
       "      <td>Shuttl</td>\n",
       "      <td>80,48,394</td>\n",
       "    </tr>\n",
       "    <tr>\n",
       "      <th>2</th>\n",
       "      <td>Mamaearth</td>\n",
       "      <td>1,83,58,860</td>\n",
       "    </tr>\n",
       "    <tr>\n",
       "      <th>3</th>\n",
       "      <td>https://www.wealthbucket.in/</td>\n",
       "      <td>30,00,000</td>\n",
       "    </tr>\n",
       "    <tr>\n",
       "      <th>4</th>\n",
       "      <td>Fashor</td>\n",
       "      <td>18,00,000</td>\n",
       "    </tr>\n",
       "    <tr>\n",
       "      <th>...</th>\n",
       "      <td>...</td>\n",
       "      <td>...</td>\n",
       "    </tr>\n",
       "    <tr>\n",
       "      <th>3038</th>\n",
       "      <td>Grabhouse.com</td>\n",
       "      <td>25,00,000</td>\n",
       "    </tr>\n",
       "    <tr>\n",
       "      <th>3039</th>\n",
       "      <td>Printvenue</td>\n",
       "      <td>45,00,000</td>\n",
       "    </tr>\n",
       "    <tr>\n",
       "      <th>3040</th>\n",
       "      <td>Graphene</td>\n",
       "      <td>8,25,000</td>\n",
       "    </tr>\n",
       "    <tr>\n",
       "      <th>3041</th>\n",
       "      <td>Mad Street Den</td>\n",
       "      <td>15,00,000</td>\n",
       "    </tr>\n",
       "    <tr>\n",
       "      <th>3043</th>\n",
       "      <td>couponmachine.in</td>\n",
       "      <td>1,40,000</td>\n",
       "    </tr>\n",
       "  </tbody>\n",
       "</table>\n",
       "<p>2084 rows × 2 columns</p>\n",
       "</div>"
      ],
      "text/plain": [
       "                      Startup Name        Amount\n",
       "0                           BYJU’S  20,00,00,000\n",
       "1                           Shuttl     80,48,394\n",
       "2                        Mamaearth   1,83,58,860\n",
       "3     https://www.wealthbucket.in/     30,00,000\n",
       "4                           Fashor     18,00,000\n",
       "...                            ...           ...\n",
       "3038                 Grabhouse.com     25,00,000\n",
       "3039                    Printvenue     45,00,000\n",
       "3040                      Graphene      8,25,000\n",
       "3041                Mad Street Den     15,00,000\n",
       "3043              couponmachine.in      1,40,000\n",
       "\n",
       "[2084 rows x 2 columns]"
      ]
     },
     "execution_count": 134,
     "metadata": {},
     "output_type": "execute_result"
    }
   ],
   "source": [
    "df_new[\"Amount\"] = arr2\n",
    "df_new.drop(\"Amount in USD\", axis = 1, inplace = True)\n",
    "df_new"
   ]
  },
  {
   "cell_type": "code",
   "execution_count": 135,
   "id": "6f69e7ee",
   "metadata": {},
   "outputs": [],
   "source": [
    "df_new['Amount'] = df_new['Amount'].apply(lambda x: float(str(x).replace(\",\",\"\")))  # converting string to float amount"
   ]
  },
  {
   "cell_type": "code",
   "execution_count": 136,
   "id": "86593800",
   "metadata": {},
   "outputs": [],
   "source": [
    "df_new1 = df_new.groupby(\"Startup Name\").sum([\"Amount\"])"
   ]
  },
  {
   "cell_type": "code",
   "execution_count": 139,
   "id": "bfd5ad47",
   "metadata": {},
   "outputs": [
    {
     "data": {
      "text/html": [
       "<div>\n",
       "<style scoped>\n",
       "    .dataframe tbody tr th:only-of-type {\n",
       "        vertical-align: middle;\n",
       "    }\n",
       "\n",
       "    .dataframe tbody tr th {\n",
       "        vertical-align: top;\n",
       "    }\n",
       "\n",
       "    .dataframe thead th {\n",
       "        text-align: right;\n",
       "    }\n",
       "</style>\n",
       "<table border=\"1\" class=\"dataframe\">\n",
       "  <thead>\n",
       "    <tr style=\"text-align: right;\">\n",
       "      <th></th>\n",
       "      <th>Amount</th>\n",
       "    </tr>\n",
       "    <tr>\n",
       "      <th>Startup Name</th>\n",
       "      <th></th>\n",
       "    </tr>\n",
       "  </thead>\n",
       "  <tbody>\n",
       "    <tr>\n",
       "      <th>Flipkart</th>\n",
       "      <td>4.759700e+09</td>\n",
       "    </tr>\n",
       "    <tr>\n",
       "      <th>Rapido Bike Taxi</th>\n",
       "      <td>3.900000e+09</td>\n",
       "    </tr>\n",
       "    <tr>\n",
       "      <th>Paytm</th>\n",
       "      <td>3.348950e+09</td>\n",
       "    </tr>\n",
       "    <tr>\n",
       "      <th>Ola Cabs</th>\n",
       "      <td>2.054200e+09</td>\n",
       "    </tr>\n",
       "    <tr>\n",
       "      <th>Udaan</th>\n",
       "      <td>8.700000e+08</td>\n",
       "    </tr>\n",
       "    <tr>\n",
       "      <th>...</th>\n",
       "      <td>...</td>\n",
       "    </tr>\n",
       "    <tr>\n",
       "      <th>\\\\xc2\\\\xa0Notesgen</th>\n",
       "      <td>0.000000e+00</td>\n",
       "    </tr>\n",
       "    <tr>\n",
       "      <th>\\\\xc2\\\\xa0Satvacart</th>\n",
       "      <td>0.000000e+00</td>\n",
       "    </tr>\n",
       "    <tr>\n",
       "      <th>Mishry Reviews</th>\n",
       "      <td>0.000000e+00</td>\n",
       "    </tr>\n",
       "    <tr>\n",
       "      <th>\\\\xc2\\\\xa0Shopsity</th>\n",
       "      <td>0.000000e+00</td>\n",
       "    </tr>\n",
       "    <tr>\n",
       "      <th>\\\\xc2\\\\xa0Infinity Assurance</th>\n",
       "      <td>0.000000e+00</td>\n",
       "    </tr>\n",
       "  </tbody>\n",
       "</table>\n",
       "<p>1706 rows × 1 columns</p>\n",
       "</div>"
      ],
      "text/plain": [
       "                                    Amount\n",
       "Startup Name                              \n",
       "Flipkart                      4.759700e+09\n",
       "Rapido Bike Taxi              3.900000e+09\n",
       "Paytm                         3.348950e+09\n",
       "Ola Cabs                      2.054200e+09\n",
       "Udaan                         8.700000e+08\n",
       "...                                    ...\n",
       "\\\\xc2\\\\xa0Notesgen            0.000000e+00\n",
       "\\\\xc2\\\\xa0Satvacart           0.000000e+00\n",
       "Mishry Reviews                0.000000e+00\n",
       "\\\\xc2\\\\xa0Shopsity            0.000000e+00\n",
       "\\\\xc2\\\\xa0Infinity Assurance  0.000000e+00\n",
       "\n",
       "[1706 rows x 1 columns]"
      ]
     },
     "execution_count": 139,
     "metadata": {},
     "output_type": "execute_result"
    }
   ],
   "source": [
    "df_new1 = df_new1.sort_values(by = \"Amount\", ascending = False) # sorting the added values\n",
    "df_new1"
   ]
  },
  {
   "cell_type": "code",
   "execution_count": 152,
   "id": "d2eb145a",
   "metadata": {},
   "outputs": [
    {
     "name": "stdout",
     "output_type": "stream",
     "text": [
      "Index(['Flipkart', 'Rapido Bike Taxi', 'Paytm', 'Ola Cabs', 'Udaan'], dtype='object', name='Startup Name')\n",
      "[4759700000.0, 3900000000.0, 3348950000.0, 2054200000.0, 870000000.0]\n"
     ]
    }
   ],
   "source": [
    "arr1 = df_new1.index  # basic operation to take values in array to plot in matplotlib\n",
    "arr2 = df_new1.values\n",
    "arr1 = arr1[0:5]\n",
    "arr2 = arr2[0:5]\n",
    "arr3 = []\n",
    "\n",
    "print(arr1)\n",
    "for i11 in arr2:\n",
    "    arr3.append(i11[0])\n",
    "print(arr3)"
   ]
  },
  {
   "cell_type": "code",
   "execution_count": 157,
   "id": "866c8cf2",
   "metadata": {},
   "outputs": [
    {
     "name": "stdout",
     "output_type": "stream",
     "text": [
      "Flipkart 4759700000.0\n",
      "Rapido Bike Taxi 3900000000.0\n",
      "Paytm 3348950000.0\n",
      "Ola Cabs 2054200000.0\n",
      "Udaan 870000000.0\n"
     ]
    },
    {
     "data": {
      "image/png": "[encoded data removed]",
      "text/plain": [
       "<Figure size 432x288 with 1 Axes>"
      ]
     },
     "metadata": {},
     "output_type": "display_data"
    }
   ],
   "source": [
    "#plotting for most money raised by startup \n",
    "i = 0\n",
    "while i < len(arr1):\n",
    "    print(arr1[i], arr3[i])\n",
    "    i = i + 1\n",
    "\n",
    "plt.pie(arr3 , labels = arr1 , autopct='%0.2f%%', counterclock= False , startangle=110)\n",
    "plt.title('Most Money Raised')\n",
    "plt.show()"
   ]
  },
  {
   "cell_type": "code",
   "execution_count": 158,
   "id": "a8138dbd",
   "metadata": {},
   "outputs": [
    {
     "name": "stdout",
     "output_type": "stream",
     "text": [
      "['Ola Cabs', 'Swiggy', 'Paytm', 'Toppr', 'Flipkart']\n",
      "[13, 8, 6, 6, 6]\n"
     ]
    }
   ],
   "source": [
    "#plotting pie chart for no, of times money raised\n",
    "# copying code from above\n",
    "array1 = []\n",
    "array2 = []\n",
    "for i in df_new[\"Startup Name\"].value_counts().index:\n",
    "    array1.append(i)\n",
    "    \n",
    "for i1 in df_new[\"Startup Name\"].value_counts().values:\n",
    "    array2.append(i1)\n",
    "    \n",
    "array1 = array1[0:5]\n",
    "array2 = array2[0:5]\n",
    "print(array1)\n",
    "print(array2)"
   ]
  },
  {
   "cell_type": "code",
   "execution_count": 169,
   "id": "690a15fe",
   "metadata": {},
   "outputs": [
    {
     "name": "stdout",
     "output_type": "stream",
     "text": [
      "Ola Cabs 13\n",
      "Swiggy 8\n",
      "Paytm 6\n",
      "Toppr 6\n",
      "Flipkart 6\n"
     ]
    },
    {
     "data": {
      "image/png": "[encoded data removed]",
      "text/plain": [
       "<Figure size 432x288 with 1 Axes>"
      ]
     },
     "metadata": {
      "needs_background": "light"
     },
     "output_type": "display_data"
    }
   ],
   "source": [
    "#plotting histogram for no. of times money raised.\n",
    "#plotting now\n",
    "i4 = 0\n",
    "while i4 < len(array1):\n",
    "    print(array1[i4], array2[i4])\n",
    "    i4 = i4 + 1\n",
    "    \n",
    "    \n",
    "arr1 = array1[::-1]\n",
    "arr2 = array2[::-1]\n",
    "\n",
    "# Create a figure and axes\n",
    "fig, ax = plt.subplots()\n",
    "\n",
    "# Plot the histogram\n",
    "ax.bar(arr1, arr2, color = ['blue', 'green', 'red', 'orange', 'purple'])\n",
    "\n",
    "# Set labels and title\n",
    "ax.set_xlabel('Companies')\n",
    "ax.set_ylabel('Count')\n",
    "ax.set_title('Number of times money raised')\n",
    "\n",
    "# Rotate x-axis labels for better readability\n",
    "plt.xticks(rotation=45)\n",
    "\n",
    "# Display the plot\n",
    "plt.show()\n",
    "\n"
   ]
  },
  {
   "cell_type": "markdown",
   "id": "c56ae9e2",
   "metadata": {},
   "source": [
    "# we can see that maximum amount raised companies are different from no. of times amount raised companies."
   ]
  }
 ],
 "metadata": {
  "kernelspec": {
   "display_name": "Python 3 (ipykernel)",
   "language": "python",
   "name": "python3"
  },
  "language_info": {
   "codemirror_mode": {
    "name": "ipython",
    "version": 3
   },
   "file_extension": ".py",
   "mimetype": "text/x-python",
   "name": "python",
   "nbconvert_exporter": "python",
   "pygments_lexer": "ipython3",
   "version": "3.9.12"
  }
 },
 "nbformat": 4,
 "nbformat_minor": 5
}
